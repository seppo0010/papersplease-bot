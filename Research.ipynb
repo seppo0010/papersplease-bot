{
 "cells": [
  {
   "cell_type": "code",
   "execution_count": 34,
   "metadata": {},
   "outputs": [],
   "source": [
    "%matplotlib inline\n",
    "import matplotlib.pyplot as plt\n",
    "import pyautogui\n",
    "import numpy as np\n",
    "from PIL import Image\n",
    "from time import sleep\n",
    "from glob import glob\n",
    "import cv2"
   ]
  },
  {
   "cell_type": "code",
   "execution_count": 105,
   "metadata": {
    "deletable": false,
    "editable": false,
    "run_control": {
     "frozen": true
    }
   },
   "outputs": [
    {
     "data": {
      "image/png": "[encoded data removed]",
      "text/plain": [
       "<Figure size 432x288 with 1 Axes>"
      ]
     },
     "metadata": {},
     "output_type": "display_data"
    }
   ],
   "source": [
    "im = pyautogui.screenshot(region=(600, 580, 50, 40))\n",
    "plt.subplot(1,1,1), plt.title(''), plt.xticks([]), plt.yticks([]), plt.imshow(im);"
   ]
  },
  {
   "cell_type": "code",
   "execution_count": 15,
   "metadata": {
    "deletable": false,
    "editable": false,
    "run_control": {
     "frozen": true
    }
   },
   "outputs": [
    {
     "data": {
      "text/plain": [
       "PIL.Image.Image"
      ]
     },
     "execution_count": 15,
     "metadata": {},
     "output_type": "execute_result"
    }
   ],
   "source": [
    "type(im)"
   ]
  },
  {
   "cell_type": "code",
   "execution_count": 106,
   "metadata": {
    "deletable": false,
    "editable": false,
    "run_control": {
     "frozen": true
    }
   },
   "outputs": [],
   "source": [
    "import os\n",
    "if not os.path.exists('anchors'): os.mkdir('anchors')\n",
    "if not os.path.exists('anchors/received-docs'): os.mkdir('anchors/received-docs')\n",
    "im.save('anchors/endless.png')"
   ]
  },
  {
   "cell_type": "code",
   "execution_count": 35,
   "metadata": {},
   "outputs": [
    {
     "data": {
      "text/plain": [
       "(0.9999997615814209, (1274, 744))"
      ]
     },
     "execution_count": 35,
     "metadata": {},
     "output_type": "execute_result"
    }
   ],
   "source": [
    "# find origin coordinates\n",
    "im = pyautogui.screenshot()\n",
    "im2 = Image.open('anchors/endless.png')\n",
    "result = cv2.matchTemplate(np.array(im2), np.array(im), cv2.TM_CCOEFF_NORMED)\n",
    "_, max_val, _, max_loc = cv2.minMaxLoc(result)\n",
    "max_val, max_loc"
   ]
  },
  {
   "cell_type": "code",
   "execution_count": 36,
   "metadata": {},
   "outputs": [],
   "source": [
    "offset = max_loc[0] - 600, max_loc[1] - 580\n",
    "def click(x, y):\n",
    "    global offset\n",
    "    pyautogui.moveTo(offset[0]+x, offset[1]+y)\n",
    "    pyautogui.click()\n",
    "\n",
    "# start game\n",
    "if max_val > 0.999:\n",
    "    click(625, 600)\n",
    "    sleep(2)\n",
    "    click(932, 206)\n",
    "    click(543, 461)\n",
    "    click(637, 631)"
   ]
  },
  {
   "cell_type": "code",
   "execution_count": 5,
   "metadata": {
    "deletable": false,
    "editable": false,
    "run_control": {
     "frozen": true
    }
   },
   "outputs": [
    {
     "data": {
      "image/png": "[encoded data removed]",
      "text/plain": [
       "<PIL.Image.Image image mode=RGB size=120x60 at 0x69A3BB0>"
      ]
     },
     "execution_count": 5,
     "metadata": {},
     "output_type": "execute_result"
    }
   ],
   "source": [
    "sleep(2)\n",
    "#pyautogui.position()\n",
    "im = pyautogui.screenshot(region=(offset[0]+670, offset[1]+276, 120, 60));im"
   ]
  },
  {
   "cell_type": "code",
   "execution_count": 54,
   "metadata": {
    "deletable": false,
    "editable": false,
    "run_control": {
     "frozen": true
    }
   },
   "outputs": [],
   "source": [
    "im.save('anchors/bulletin.png')"
   ]
  },
  {
   "cell_type": "code",
   "execution_count": 38,
   "metadata": {
    "scrolled": true
   },
   "outputs": [
    {
     "data": {
      "image/png": "[encoded data removed]",
      "text/plain": [
       "<PIL.Image.Image image mode=RGB size=1140x640 at 0xA9CE510>"
      ]
     },
     "execution_count": 38,
     "metadata": {},
     "output_type": "execute_result"
    }
   ],
   "source": [
    "# screenshot for wanted criminals\n",
    "def resume():\n",
    "    click(803, 484)\n",
    "    pyautogui.press('esc')\n",
    "    sleep(0.5)\n",
    "resume()\n",
    "\n",
    "im = pyautogui.screenshot(region=(offset[0]+670, offset[1]+276, 120, 60))\n",
    "im2 = Image.open('anchors/bulletin.png')\n",
    "if (np.array(im) == np.array(im2)).all():\n",
    "    pyautogui.move(1,1)\n",
    "    pyautogui.press('right')\n",
    "    wanted_criminals = pyautogui.screenshot(region=(offset[0]+64, offset[1]+50, 1140, 640))\n",
    "    pyautogui.press('left')\n",
    "else:\n",
    "    wanted_criminals = None\n",
    "wanted_criminals"
   ]
  },
  {
   "cell_type": "code",
   "execution_count": 39,
   "metadata": {},
   "outputs": [],
   "source": [
    "# put instructions away\n",
    "resume()\n",
    "pyautogui.dragTo(offset[0]+177, offset[1]+638, button='left', duration=0.4)"
   ]
  },
  {
   "cell_type": "code",
   "execution_count": 40,
   "metadata": {},
   "outputs": [],
   "source": [
    "resume()\n",
    "def call_next():\n",
    "    click(415, 200)\n",
    "    sleep(6)\n",
    "call_next()"
   ]
  },
  {
   "cell_type": "code",
   "execution_count": 11,
   "metadata": {
    "deletable": false,
    "editable": false,
    "run_control": {
     "frozen": true
    }
   },
   "outputs": [
    {
     "data": {
      "image/png": "[encoded data removed]",
      "text/plain": [
       "<PIL.Image.Image image mode=RGB size=350x120 at 0xAC028B0>"
      ]
     },
     "execution_count": 11,
     "metadata": {},
     "output_type": "execute_result"
    }
   ],
   "source": [
    "resume()\n",
    "def received_docs():\n",
    "    return pyautogui.screenshot(region=(offset[0]+67, offset[1]+479, 417-67, 599-479))\n",
    "docs = received_docs()\n",
    "docs"
   ]
  },
  {
   "cell_type": "code",
   "execution_count": 138,
   "metadata": {
    "deletable": false,
    "editable": false,
    "run_control": {
     "frozen": true
    }
   },
   "outputs": [],
   "source": [
    "docs.save('anchors/received-docs/antegria-permit.png')"
   ]
  },
  {
   "cell_type": "code",
   "execution_count": 140,
   "metadata": {
    "deletable": false,
    "editable": false,
    "run_control": {
     "frozen": true
    }
   },
   "outputs": [
    {
     "data": {
      "image/png": "[encoded data removed]",
      "text/plain": [
       "<PIL.Image.Image image mode=RGB size=350x120 at 0x7F5D606C27F0>"
      ]
     },
     "execution_count": 140,
     "metadata": {},
     "output_type": "execute_result"
    }
   ],
   "source": [
    "resume()\n",
    "docs = received_docs()\n",
    "docs"
   ]
  },
  {
   "cell_type": "code",
   "execution_count": 141,
   "metadata": {
    "deletable": false,
    "editable": false,
    "run_control": {
     "frozen": true
    }
   },
   "outputs": [],
   "source": [
    "docs.save('anchors/received-docs/obristan-permit.png')"
   ]
  },
  {
   "cell_type": "code",
   "execution_count": 142,
   "metadata": {
    "deletable": false,
    "editable": false,
    "run_control": {
     "frozen": true
    }
   },
   "outputs": [
    {
     "data": {
      "image/png": "[encoded data removed]",
      "text/plain": [
       "<PIL.Image.Image image mode=RGB size=350x120 at 0x7F5D606C2D30>"
      ]
     },
     "execution_count": 142,
     "metadata": {},
     "output_type": "execute_result"
    }
   ],
   "source": [
    "resume()\n",
    "docs = received_docs()\n",
    "docs"
   ]
  },
  {
   "cell_type": "code",
   "execution_count": 143,
   "metadata": {
    "deletable": false,
    "editable": false,
    "run_control": {
     "frozen": true
    }
   },
   "outputs": [],
   "source": [
    "docs.save('anchors/received-docs/impor-workpass.png')"
   ]
  },
  {
   "cell_type": "code",
   "execution_count": 161,
   "metadata": {
    "deletable": false,
    "editable": false,
    "run_control": {
     "frozen": true
    }
   },
   "outputs": [
    {
     "data": {
      "text/plain": [
       "{'antegria-permit': <PIL.PngImagePlugin.PngImageFile image mode=RGB size=350x120 at 0x7F5D90CDFEB8>,\n",
       " 'impor-workpass': <PIL.PngImagePlugin.PngImageFile image mode=RGB size=350x120 at 0x7F5D90CDF8D0>,\n",
       " 'obristan-permit': <PIL.PngImagePlugin.PngImageFile image mode=RGB size=350x120 at 0x7F5D90CDF9B0>,\n",
       " 'obristan-workpass': <PIL.PngImagePlugin.PngImageFile image mode=RGB size=350x120 at 0x7F5D90CDFFD0>,\n",
       " 'republia-permit': <PIL.PngImagePlugin.PngImageFile image mode=RGB size=350x120 at 0x7F5D90CDFE80>}"
      ]
     },
     "execution_count": 161,
     "metadata": {},
     "output_type": "execute_result"
    }
   ],
   "source": [
    "def received_docs_options():\n",
    "    return {f.split('/')[-1].split('.')[0]: Image.open(f) for f in glob('anchors/received-docs/*.png')} \n",
    "received_docs_options()"
   ]
  },
  {
   "cell_type": "code",
   "execution_count": 165,
   "metadata": {
    "deletable": false,
    "editable": false,
    "run_control": {
     "frozen": true
    }
   },
   "outputs": [],
   "source": [
    "def received_docs_type(docs=None):\n",
    "    docs = docs or received_docs()\n",
    "    for t, val in received_docs_options().items():\n",
    "        if (np.array(val) == np.array(docs)).all():\n",
    "            return t\n",
    "    return None"
   ]
  },
  {
   "cell_type": "code",
   "execution_count": 156,
   "metadata": {
    "deletable": false,
    "editable": false,
    "run_control": {
     "frozen": true
    }
   },
   "outputs": [],
   "source": [
    "resume()\n",
    "received_docs_type()"
   ]
  },
  {
   "cell_type": "code",
   "execution_count": 155,
   "metadata": {
    "deletable": false,
    "editable": false,
    "run_control": {
     "frozen": true
    }
   },
   "outputs": [
    {
     "data": {
      "image/png": "[encoded data removed]",
      "text/plain": [
       "<PIL.Image.Image image mode=RGB size=350x120 at 0x7F5D60724DD8>"
      ]
     },
     "execution_count": 155,
     "metadata": {},
     "output_type": "execute_result"
    }
   ],
   "source": [
    "resume()\n",
    "docs = received_docs()\n",
    "docs"
   ]
  },
  {
   "cell_type": "code",
   "execution_count": 157,
   "metadata": {
    "deletable": false,
    "editable": false,
    "run_control": {
     "frozen": true
    }
   },
   "outputs": [],
   "source": [
    "docs.save('anchors/received-docs/obristan-workpass.png')"
   ]
  },
  {
   "cell_type": "code",
   "execution_count": 158,
   "metadata": {
    "deletable": false,
    "editable": false,
    "run_control": {
     "frozen": true
    }
   },
   "outputs": [
    {
     "data": {
      "image/png": "[encoded data removed]",
      "text/plain": [
       "<PIL.Image.Image image mode=RGB size=350x120 at 0x7F5D606C2FD0>"
      ]
     },
     "execution_count": 158,
     "metadata": {},
     "output_type": "execute_result"
    }
   ],
   "source": [
    "resume()\n",
    "docs = received_docs()\n",
    "docs"
   ]
  },
  {
   "cell_type": "code",
   "execution_count": 159,
   "metadata": {
    "deletable": false,
    "editable": false,
    "run_control": {
     "frozen": true
    }
   },
   "outputs": [],
   "source": [
    "docs.save('anchors/received-docs/republia-permit.png')"
   ]
  },
  {
   "cell_type": "code",
   "execution_count": 167,
   "metadata": {
    "deletable": false,
    "editable": false,
    "run_control": {
     "frozen": true
    }
   },
   "outputs": [
    {
     "data": {
      "image/png": "[encoded data removed]",
      "text/plain": [
       "<PIL.Image.Image image mode=RGB size=350x120 at 0x7F5D6074D278>"
      ]
     },
     "execution_count": 167,
     "metadata": {},
     "output_type": "execute_result"
    }
   ],
   "source": [
    "resume()\n",
    "docs = received_docs()\n",
    "docs"
   ]
  },
  {
   "cell_type": "code",
   "execution_count": 169,
   "metadata": {
    "deletable": false,
    "editable": false,
    "run_control": {
     "frozen": true
    }
   },
   "outputs": [
    {
     "data": {
      "image/png": "[encoded data removed]",
      "text/plain": [
       "<PIL.Image.Image image mode=RGB size=350x120 at 0x7F5D6074D1D0>"
      ]
     },
     "execution_count": 169,
     "metadata": {},
     "output_type": "execute_result"
    }
   ],
   "source": [
    "resume()\n",
    "docs = received_docs()\n",
    "docs"
   ]
  },
  {
   "cell_type": "code",
   "execution_count": 170,
   "metadata": {
    "deletable": false,
    "editable": false,
    "run_control": {
     "frozen": true
    }
   },
   "outputs": [],
   "source": [
    "docs.save('anchors/received-docs/arstotzka-id.png')"
   ]
  },
  {
   "cell_type": "code",
   "execution_count": 172,
   "metadata": {
    "deletable": false,
    "editable": false,
    "run_control": {
     "frozen": true
    },
    "scrolled": true
   },
   "outputs": [
    {
     "data": {
      "image/png": "[encoded data removed]",
      "text/plain": [
       "<PIL.Image.Image image mode=RGB size=350x120 at 0x7F5D6074DB00>"
      ]
     },
     "execution_count": 172,
     "metadata": {},
     "output_type": "execute_result"
    }
   ],
   "source": [
    "resume()\n",
    "docs = received_docs()\n",
    "docs"
   ]
  },
  {
   "cell_type": "code",
   "execution_count": 173,
   "metadata": {
    "deletable": false,
    "editable": false,
    "run_control": {
     "frozen": true
    }
   },
   "outputs": [],
   "source": [
    "resume()\n",
    "received_docs_type()"
   ]
  },
  {
   "cell_type": "markdown",
   "metadata": {},
   "source": [
    "Oh no! Documents are not always handed in the same rotation!"
   ]
  },
  {
   "cell_type": "code",
   "execution_count": 41,
   "metadata": {},
   "outputs": [],
   "source": [
    "def moveTo(x, y):\n",
    "    global offset\n",
    "    pyautogui.moveTo(offset[0]+x, offset[1]+y)\n",
    "\n",
    "def dragTo(x, y, button='left', duration=0.4):\n",
    "    global offset\n",
    "    pyautogui.dragTo(offset[0]+x, offset[1]+y, button=button, duration=duration)\n",
    "\n",
    "def open_doc():\n",
    "    moveTo(251, 547)\n",
    "    dragTo(815, 468)"
   ]
  },
  {
   "cell_type": "code",
   "execution_count": 48,
   "metadata": {
    "deletable": false,
    "editable": false,
    "run_control": {
     "frozen": true
    }
   },
   "outputs": [
    {
     "data": {
      "image/png": "[encoded data removed]",
      "text/plain": [
       "<PIL.Image.Image image mode=RGB size=350x120 at 0xAAC4870>"
      ]
     },
     "execution_count": 48,
     "metadata": {},
     "output_type": "execute_result"
    }
   ],
   "source": [
    "resume()\n",
    "empty = received_docs()\n",
    "empty"
   ]
  },
  {
   "cell_type": "code",
   "execution_count": 54,
   "metadata": {
    "deletable": false,
    "editable": false,
    "run_control": {
     "frozen": true
    }
   },
   "outputs": [],
   "source": [
    "empty.save('anchors/nodocs.png')"
   ]
  },
  {
   "cell_type": "code",
   "execution_count": 99,
   "metadata": {},
   "outputs": [],
   "source": [
    "def screenshot(x1, y1, x2, y2):\n",
    "    global offset\n",
    "    return pyautogui.screenshot(region=(offset[0]+x1, offset[1]+y1, x2 - x1, y2 - y1))\n",
    "\n",
    "def receive_all_documents():\n",
    "    im = received_docs()\n",
    "    im2 = Image.open('anchors/nodocs.png')\n",
    "    counter = 0\n",
    "    documents_screenshots = []\n",
    "    while not (np.array(im) == np.array(im2)).all():\n",
    "        open_doc()\n",
    "        documents_screenshots.append(screenshot(430, 265, 1204, 682))\n",
    "        counter += 1\n",
    "        if counter > 5:\n",
    "            raise Exception('too many documents')\n",
    "        im = received_docs()\n",
    "    return documents_screenshots"
   ]
  },
  {
   "cell_type": "code",
   "execution_count": 144,
   "metadata": {},
   "outputs": [
    {
     "data": {
      "text/plain": [
       "[<PIL.Image.Image image mode=RGB size=774x417 at 0xAAA1450>,\n",
       " <PIL.Image.Image image mode=RGB size=774x417 at 0xAAA1D50>,\n",
       " <PIL.Image.Image image mode=RGB size=774x417 at 0xAAA1B50>]"
      ]
     },
     "execution_count": 144,
     "metadata": {},
     "output_type": "execute_result"
    }
   ],
   "source": [
    "resume()\n",
    "receive_all_documents()"
   ]
  },
  {
   "cell_type": "code",
   "execution_count": 104,
   "metadata": {
    "deletable": false,
    "editable": false,
    "run_control": {
     "frozen": true
    }
   },
   "outputs": [
    {
     "data": {
      "image/png": "[encoded data removed]",
      "text/plain": [
       "<PIL.Image.Image image mode=RGB size=130x17 at 0xAAC4EB0>"
      ]
     },
     "execution_count": 104,
     "metadata": {},
     "output_type": "execute_result"
    }
   ],
   "source": [
    "resume()\n",
    "im = screenshot(680, 437, 810, 454)\n",
    "im"
   ]
  },
  {
   "cell_type": "code",
   "execution_count": 105,
   "metadata": {
    "deletable": false,
    "editable": false,
    "run_control": {
     "frozen": true
    }
   },
   "outputs": [],
   "source": [
    "im.save('anchors/entry_visa.png')"
   ]
  },
  {
   "cell_type": "code",
   "execution_count": 106,
   "metadata": {},
   "outputs": [
    {
     "data": {
      "text/plain": [
       "(1.0, (1390, 591))"
      ]
     },
     "execution_count": 106,
     "metadata": {},
     "output_type": "execute_result"
    }
   ],
   "source": [
    "resume()\n",
    "im = pyautogui.screenshot()\n",
    "im2 = Image.open('anchors/entry_visa.png')\n",
    "result = cv2.matchTemplate(np.array(im2), np.array(im), cv2.TM_CCOEFF_NORMED)\n",
    "_, max_val, _, max_loc = cv2.minMaxLoc(result)\n",
    "max_val, max_loc"
   ]
  },
  {
   "cell_type": "code",
   "execution_count": 124,
   "metadata": {},
   "outputs": [],
   "source": [
    "def put_document_away():\n",
    "    moveTo(815, 468)\n",
    "    dragTo(160, 547) # needs to overshoot because it is dropped early"
   ]
  },
  {
   "cell_type": "code",
   "execution_count": 126,
   "metadata": {},
   "outputs": [],
   "source": [
    "resume()\n",
    "put_document_away()"
   ]
  },
  {
   "cell_type": "code",
   "execution_count": 128,
   "metadata": {},
   "outputs": [],
   "source": [
    "def find_entry_visa():\n",
    "    im = pyautogui.screenshot()\n",
    "    im2 = Image.open('anchors/entry_visa.png')\n",
    "    result = cv2.matchTemplate(np.array(im2), np.array(im), cv2.TM_CCOEFF_NORMED)\n",
    "    _, max_val, _, max_loc = cv2.minMaxLoc(result)\n",
    "    if max_val > 0.999:\n",
    "        return max_loc[0] - offset[0], max_loc[1] - offset[1]\n",
    "    return None"
   ]
  },
  {
   "cell_type": "code",
   "execution_count": 145,
   "metadata": {},
   "outputs": [
    {
     "ename": "NameError",
     "evalue": "name 'return_documents' is not defined",
     "output_type": "error",
     "traceback": [
      "\u001b[1;31m---------------------------------------------------------------------------\u001b[0m",
      "\u001b[1;31mNameError\u001b[0m                                 Traceback (most recent call last)",
      "\u001b[1;32m<ipython-input-145-c512fbbcf229>\u001b[0m in \u001b[0;36m<module>\u001b[1;34m\u001b[0m\n\u001b[0;32m     20\u001b[0m         \u001b[1;32mbreak\u001b[0m\u001b[1;33m\u001b[0m\u001b[1;33m\u001b[0m\u001b[0m\n\u001b[0;32m     21\u001b[0m \u001b[0mresume\u001b[0m\u001b[1;33m(\u001b[0m\u001b[1;33m)\u001b[0m\u001b[1;33m\u001b[0m\u001b[1;33m\u001b[0m\u001b[0m\n\u001b[1;32m---> 22\u001b[1;33m \u001b[0maccept\u001b[0m\u001b[1;33m(\u001b[0m\u001b[1;33m)\u001b[0m\u001b[1;33m\u001b[0m\u001b[1;33m\u001b[0m\u001b[0m\n\u001b[0m",
      "\u001b[1;32m<ipython-input-145-c512fbbcf229>\u001b[0m in \u001b[0;36maccept\u001b[1;34m()\u001b[0m\n\u001b[0;32m     17\u001b[0m         \u001b[0mpyautogui\u001b[0m\u001b[1;33m.\u001b[0m\u001b[0mpress\u001b[0m\u001b[1;33m(\u001b[0m\u001b[1;34m'tab'\u001b[0m\u001b[1;33m)\u001b[0m\u001b[1;33m\u001b[0m\u001b[1;33m\u001b[0m\u001b[0m\n\u001b[0;32m     18\u001b[0m         \u001b[0mdragTo\u001b[0m\u001b[1;33m(\u001b[0m\u001b[1;36m221\u001b[0m\u001b[1;33m,\u001b[0m \u001b[1;36m391\u001b[0m\u001b[1;33m)\u001b[0m\u001b[1;33m\u001b[0m\u001b[1;33m\u001b[0m\u001b[0m\n\u001b[1;32m---> 19\u001b[1;33m         \u001b[0mreturn_documents\u001b[0m\u001b[1;33m(\u001b[0m\u001b[1;33m)\u001b[0m\u001b[1;33m\u001b[0m\u001b[1;33m\u001b[0m\u001b[0m\n\u001b[0m\u001b[0;32m     20\u001b[0m         \u001b[1;32mbreak\u001b[0m\u001b[1;33m\u001b[0m\u001b[1;33m\u001b[0m\u001b[0m\n\u001b[0;32m     21\u001b[0m \u001b[0mresume\u001b[0m\u001b[1;33m(\u001b[0m\u001b[1;33m)\u001b[0m\u001b[1;33m\u001b[0m\u001b[1;33m\u001b[0m\u001b[0m\n",
      "\u001b[1;31mNameError\u001b[0m: name 'return_documents' is not defined"
     ]
    }
   ],
   "source": [
    "def accept():\n",
    "    counter = 0\n",
    "    while True:\n",
    "        counter += 1\n",
    "        if counter == 10:\n",
    "            raise Exception('failed to find entry visa')\n",
    "\n",
    "        entry_visa = find_entry_visa()\n",
    "        if entry_visa is None:\n",
    "            put_document_away()\n",
    "            continue\n",
    "        moveTo(*entry_visa)\n",
    "        dragTo(1038, 395)\n",
    "        pyautogui.press('tab')\n",
    "        sleep(0.5)\n",
    "        click(1038, 395)\n",
    "        moveTo(1038, 455)\n",
    "        pyautogui.press('tab')\n",
    "        dragTo(221, 391)\n",
    "        return_documents()\n",
    "        break\n",
    "resume()\n",
    "accept()"
   ]
  },
  {
   "cell_type": "code",
   "execution_count": 137,
   "metadata": {},
   "outputs": [
    {
     "data": {
      "text/plain": [
       "(429, 265)"
      ]
     },
     "execution_count": 137,
     "metadata": {},
     "output_type": "execute_result"
    }
   ],
   "source": [
    "pyautogui.position().x - offset[0], pyautogui.position().y - offset[1]"
   ]
  },
  {
   "cell_type": "code",
   "execution_count": 138,
   "metadata": {},
   "outputs": [
    {
     "data": {
      "text/plain": [
       "(1205, 685)"
      ]
     },
     "execution_count": 138,
     "metadata": {},
     "output_type": "execute_result"
    }
   ],
   "source": [
    "pyautogui.position().x - offset[0], pyautogui.position().y - offset[1]"
   ]
  }
 ],
 "metadata": {
  "kernelspec": {
   "display_name": "Python 3",
   "language": "python",
   "name": "python3"
  },
  "language_info": {
   "codemirror_mode": {
    "name": "ipython",
    "version": 3
   },
   "file_extension": ".py",
   "mimetype": "text/x-python",
   "name": "python",
   "nbconvert_exporter": "python",
   "pygments_lexer": "ipython3",
   "version": "3.7.3"
  }
 },
 "nbformat": 4,
 "nbformat_minor": 2
}
