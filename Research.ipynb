{
 "cells": [
  {
   "cell_type": "code",
   "execution_count": 1,
   "metadata": {},
   "outputs": [],
   "source": [
    "%matplotlib inline\n",
    "import matplotlib.pyplot as plt\n",
    "import pyautogui\n",
    "import numpy as np\n",
    "from PIL import Image\n",
    "from time import sleep\n",
    "from glob import glob\n",
    "import cv2"
   ]
  },
  {
   "cell_type": "code",
   "execution_count": 105,
   "metadata": {
    "deletable": false,
    "editable": false,
    "run_control": {
     "frozen": true
    }
   },
   "outputs": [
    {
     "data": {
      "image/png": "[encoded data removed]",
      "text/plain": [
       "<Figure size 432x288 with 1 Axes>"
      ]
     },
     "metadata": {},
     "output_type": "display_data"
    }
   ],
   "source": [
    "im = pyautogui.screenshot(region=(600, 580, 50, 40))\n",
    "plt.subplot(1,1,1), plt.title(''), plt.xticks([]), plt.yticks([]), plt.imshow(im);"
   ]
  },
  {
   "cell_type": "code",
   "execution_count": 15,
   "metadata": {
    "deletable": false,
    "editable": false,
    "run_control": {
     "frozen": true
    }
   },
   "outputs": [
    {
     "data": {
      "text/plain": [
       "PIL.Image.Image"
      ]
     },
     "execution_count": 15,
     "metadata": {},
     "output_type": "execute_result"
    }
   ],
   "source": [
    "type(im)"
   ]
  },
  {
   "cell_type": "code",
   "execution_count": 106,
   "metadata": {
    "deletable": false,
    "editable": false,
    "run_control": {
     "frozen": true
    }
   },
   "outputs": [],
   "source": [
    "import os\n",
    "if not os.path.exists('anchors'): os.mkdir('anchors')\n",
    "if not os.path.exists('anchors/received-docs'): os.mkdir('anchors/received-docs')\n",
    "im.save('anchors/endless.png')"
   ]
  },
  {
   "cell_type": "code",
   "execution_count": 2,
   "metadata": {},
   "outputs": [],
   "source": [
    "def find_origin_coordinates():\n",
    "    im = pyautogui.screenshot()\n",
    "    im2 = Image.open('anchors/endless.png')\n",
    "    result = cv2.matchTemplate(np.array(im2), np.array(im), cv2.TM_CCOEFF_NORMED)\n",
    "    _, max_val, _, max_loc = cv2.minMaxLoc(result)\n",
    "    if max_val < 0.999:\n",
    "        raise Exception()\n",
    "    return max_loc"
   ]
  },
  {
   "cell_type": "code",
   "execution_count": 4,
   "metadata": {
    "deletable": false,
    "editable": false,
    "run_control": {
     "frozen": true
    }
   },
   "outputs": [
    {
     "data": {
      "text/plain": [
       "(1357, 596)"
      ]
     },
     "execution_count": 4,
     "metadata": {},
     "output_type": "execute_result"
    }
   ],
   "source": [
    "find_origin_coordinates()"
   ]
  },
  {
   "cell_type": "code",
   "execution_count": null,
   "metadata": {
    "deletable": false,
    "editable": false,
    "run_control": {
     "frozen": true
    }
   },
   "outputs": [],
   "source": [
    "offset = max_loc[0] - 600, max_loc[1] - 580"
   ]
  },
  {
   "cell_type": "code",
   "execution_count": 3,
   "metadata": {},
   "outputs": [],
   "source": [
    "def click(x, y):\n",
    "    global offset\n",
    "    pyautogui.moveTo(offset[0]+x, offset[1]+y)\n",
    "    pyautogui.click()\n",
    "\n",
    "def start_game():\n",
    "    click(625, 600)\n",
    "    sleep(2)\n",
    "    click(343, 201)\n",
    "    click(543, 461)\n",
    "    click(637, 631)\n",
    "    sleep(9)"
   ]
  },
  {
   "cell_type": "code",
   "execution_count": null,
   "metadata": {
    "deletable": false,
    "editable": false,
    "run_control": {
     "frozen": true
    }
   },
   "outputs": [],
   "source": [
    "if max_val > 0.999:\n",
    "    start_game()"
   ]
  },
  {
   "cell_type": "code",
   "execution_count": 5,
   "metadata": {
    "deletable": false,
    "editable": false,
    "run_control": {
     "frozen": true
    }
   },
   "outputs": [
    {
     "data": {
      "image/png": "[encoded data removed]",
      "text/plain": [
       "<PIL.Image.Image image mode=RGB size=120x60 at 0x69A3BB0>"
      ]
     },
     "execution_count": 5,
     "metadata": {},
     "output_type": "execute_result"
    }
   ],
   "source": [
    "sleep(2)\n",
    "#pyautogui.position()\n",
    "im = pyautogui.screenshot(region=(offset[0]+670, offset[1]+276, 120, 60));im"
   ]
  },
  {
   "cell_type": "code",
   "execution_count": 54,
   "metadata": {
    "deletable": false,
    "editable": false,
    "run_control": {
     "frozen": true
    }
   },
   "outputs": [],
   "source": [
    "im.save('anchors/bulletin.png')"
   ]
  },
  {
   "cell_type": "code",
   "execution_count": 4,
   "metadata": {
    "scrolled": true
   },
   "outputs": [],
   "source": [
    "# screenshot for wanted criminals\n",
    "def resume():\n",
    "    click(803, 484)\n",
    "    pyautogui.press('esc')\n",
    "    sleep(0.5)\n",
    "\n",
    "def look_for_wanted_criminals():\n",
    "    im = pyautogui.screenshot(region=(offset[0]+670, offset[1]+276, 120, 60))\n",
    "    im2 = Image.open('anchors/bulletin.png')\n",
    "    if not (np.array(im) == np.array(im2)).all():\n",
    "        raise Exception()\n",
    "    pyautogui.move(1,1)\n",
    "    pyautogui.press('right')\n",
    "    wanted_criminals = pyautogui.screenshot(region=(offset[0]+64, offset[1]+50, 1140, 640))\n",
    "    pyautogui.press('left')\n",
    "    return wanted_criminals"
   ]
  },
  {
   "cell_type": "code",
   "execution_count": 40,
   "metadata": {
    "deletable": false,
    "editable": false,
    "run_control": {
     "frozen": true
    }
   },
   "outputs": [
    {
     "data": {
      "image/png": "[encoded data removed]",
      "text/plain": [
       "<PIL.Image.Image image mode=RGB size=1140x640 at 0x7FF49A475278>"
      ]
     },
     "execution_count": 40,
     "metadata": {},
     "output_type": "execute_result"
    }
   ],
   "source": [
    "resume()\n",
    "look_for_wanted_criminals()"
   ]
  },
  {
   "cell_type": "code",
   "execution_count": 41,
   "metadata": {
    "deletable": false,
    "editable": false,
    "run_control": {
     "frozen": true
    }
   },
   "outputs": [],
   "source": [
    "# put instructions away\n",
    "resume()\n",
    "pyautogui.dragTo(offset[0]+177, offset[1]+638, button='left', duration=0.4)"
   ]
  },
  {
   "cell_type": "code",
   "execution_count": 5,
   "metadata": {},
   "outputs": [],
   "source": [
    "def call_next():\n",
    "    click(415, 200)\n",
    "    sleep(7)"
   ]
  },
  {
   "cell_type": "code",
   "execution_count": 44,
   "metadata": {
    "deletable": false,
    "editable": false,
    "run_control": {
     "frozen": true
    }
   },
   "outputs": [],
   "source": [
    "resume()\n",
    "call_next()"
   ]
  },
  {
   "cell_type": "code",
   "execution_count": 6,
   "metadata": {},
   "outputs": [],
   "source": [
    "def received_docs():\n",
    "    return pyautogui.screenshot(region=(offset[0]+67, offset[1]+479, 417-67, 599-479))"
   ]
  },
  {
   "cell_type": "code",
   "execution_count": 46,
   "metadata": {
    "deletable": false,
    "editable": false,
    "run_control": {
     "frozen": true
    }
   },
   "outputs": [
    {
     "data": {
      "image/png": "[encoded data removed]",
      "text/plain": [
       "<PIL.Image.Image image mode=RGB size=350x120 at 0x7FF49A475358>"
      ]
     },
     "execution_count": 46,
     "metadata": {},
     "output_type": "execute_result"
    }
   ],
   "source": [
    "resume()\n",
    "received_docs()"
   ]
  },
  {
   "cell_type": "code",
   "execution_count": 138,
   "metadata": {
    "deletable": false,
    "editable": false,
    "run_control": {
     "frozen": true
    }
   },
   "outputs": [],
   "source": [
    "docs.save('anchors/received-docs/antegria-permit.png')"
   ]
  },
  {
   "cell_type": "code",
   "execution_count": 140,
   "metadata": {
    "deletable": false,
    "editable": false,
    "run_control": {
     "frozen": true
    }
   },
   "outputs": [
    {
     "data": {
      "image/png": "[encoded data removed]",
      "text/plain": [
       "<PIL.Image.Image image mode=RGB size=350x120 at 0x7F5D606C27F0>"
      ]
     },
     "execution_count": 140,
     "metadata": {},
     "output_type": "execute_result"
    }
   ],
   "source": [
    "resume()\n",
    "docs = received_docs()\n",
    "docs"
   ]
  },
  {
   "cell_type": "code",
   "execution_count": 141,
   "metadata": {
    "deletable": false,
    "editable": false,
    "run_control": {
     "frozen": true
    }
   },
   "outputs": [],
   "source": [
    "docs.save('anchors/received-docs/obristan-permit.png')"
   ]
  },
  {
   "cell_type": "code",
   "execution_count": 142,
   "metadata": {
    "deletable": false,
    "editable": false,
    "run_control": {
     "frozen": true
    }
   },
   "outputs": [
    {
     "data": {
      "image/png": "[encoded data removed]",
      "text/plain": [
       "<PIL.Image.Image image mode=RGB size=350x120 at 0x7F5D606C2D30>"
      ]
     },
     "execution_count": 142,
     "metadata": {},
     "output_type": "execute_result"
    }
   ],
   "source": [
    "resume()\n",
    "docs = received_docs()\n",
    "docs"
   ]
  },
  {
   "cell_type": "code",
   "execution_count": 143,
   "metadata": {
    "deletable": false,
    "editable": false,
    "run_control": {
     "frozen": true
    }
   },
   "outputs": [],
   "source": [
    "docs.save('anchors/received-docs/impor-workpass.png')"
   ]
  },
  {
   "cell_type": "code",
   "execution_count": 161,
   "metadata": {
    "deletable": false,
    "editable": false,
    "run_control": {
     "frozen": true
    }
   },
   "outputs": [
    {
     "data": {
      "text/plain": [
       "{'antegria-permit': <PIL.PngImagePlugin.PngImageFile image mode=RGB size=350x120 at 0x7F5D90CDFEB8>,\n",
       " 'impor-workpass': <PIL.PngImagePlugin.PngImageFile image mode=RGB size=350x120 at 0x7F5D90CDF8D0>,\n",
       " 'obristan-permit': <PIL.PngImagePlugin.PngImageFile image mode=RGB size=350x120 at 0x7F5D90CDF9B0>,\n",
       " 'obristan-workpass': <PIL.PngImagePlugin.PngImageFile image mode=RGB size=350x120 at 0x7F5D90CDFFD0>,\n",
       " 'republia-permit': <PIL.PngImagePlugin.PngImageFile image mode=RGB size=350x120 at 0x7F5D90CDFE80>}"
      ]
     },
     "execution_count": 161,
     "metadata": {},
     "output_type": "execute_result"
    }
   ],
   "source": [
    "def received_docs_options():\n",
    "    return {f.split('/')[-1].split('.')[0]: Image.open(f) for f in glob('anchors/received-docs/*.png')} \n",
    "received_docs_options()"
   ]
  },
  {
   "cell_type": "code",
   "execution_count": 165,
   "metadata": {
    "deletable": false,
    "editable": false,
    "run_control": {
     "frozen": true
    }
   },
   "outputs": [],
   "source": [
    "def received_docs_type(docs=None):\n",
    "    docs = docs or received_docs()\n",
    "    for t, val in received_docs_options().items():\n",
    "        if (np.array(val) == np.array(docs)).all():\n",
    "            return t\n",
    "    return None"
   ]
  },
  {
   "cell_type": "code",
   "execution_count": 156,
   "metadata": {
    "deletable": false,
    "editable": false,
    "run_control": {
     "frozen": true
    }
   },
   "outputs": [],
   "source": [
    "resume()\n",
    "received_docs_type()"
   ]
  },
  {
   "cell_type": "code",
   "execution_count": 155,
   "metadata": {
    "deletable": false,
    "editable": false,
    "run_control": {
     "frozen": true
    }
   },
   "outputs": [
    {
     "data": {
      "image/png": "[encoded data removed]",
      "text/plain": [
       "<PIL.Image.Image image mode=RGB size=350x120 at 0x7F5D60724DD8>"
      ]
     },
     "execution_count": 155,
     "metadata": {},
     "output_type": "execute_result"
    }
   ],
   "source": [
    "resume()\n",
    "docs = received_docs()\n",
    "docs"
   ]
  },
  {
   "cell_type": "code",
   "execution_count": 157,
   "metadata": {
    "deletable": false,
    "editable": false,
    "run_control": {
     "frozen": true
    }
   },
   "outputs": [],
   "source": [
    "docs.save('anchors/received-docs/obristan-workpass.png')"
   ]
  },
  {
   "cell_type": "code",
   "execution_count": 158,
   "metadata": {
    "deletable": false,
    "editable": false,
    "run_control": {
     "frozen": true
    }
   },
   "outputs": [
    {
     "data": {
      "image/png": "[encoded data removed]",
      "text/plain": [
       "<PIL.Image.Image image mode=RGB size=350x120 at 0x7F5D606C2FD0>"
      ]
     },
     "execution_count": 158,
     "metadata": {},
     "output_type": "execute_result"
    }
   ],
   "source": [
    "resume()\n",
    "docs = received_docs()\n",
    "docs"
   ]
  },
  {
   "cell_type": "code",
   "execution_count": 159,
   "metadata": {
    "deletable": false,
    "editable": false,
    "run_control": {
     "frozen": true
    }
   },
   "outputs": [],
   "source": [
    "docs.save('anchors/received-docs/republia-permit.png')"
   ]
  },
  {
   "cell_type": "code",
   "execution_count": 167,
   "metadata": {
    "deletable": false,
    "editable": false,
    "run_control": {
     "frozen": true
    }
   },
   "outputs": [
    {
     "data": {
      "image/png": "[encoded data removed]",
      "text/plain": [
       "<PIL.Image.Image image mode=RGB size=350x120 at 0x7F5D6074D278>"
      ]
     },
     "execution_count": 167,
     "metadata": {},
     "output_type": "execute_result"
    }
   ],
   "source": [
    "resume()\n",
    "docs = received_docs()\n",
    "docs"
   ]
  },
  {
   "cell_type": "code",
   "execution_count": 169,
   "metadata": {
    "deletable": false,
    "editable": false,
    "run_control": {
     "frozen": true
    }
   },
   "outputs": [
    {
     "data": {
      "image/png": "[encoded data removed]",
      "text/plain": [
       "<PIL.Image.Image image mode=RGB size=350x120 at 0x7F5D6074D1D0>"
      ]
     },
     "execution_count": 169,
     "metadata": {},
     "output_type": "execute_result"
    }
   ],
   "source": [
    "resume()\n",
    "docs = received_docs()\n",
    "docs"
   ]
  },
  {
   "cell_type": "code",
   "execution_count": 170,
   "metadata": {
    "deletable": false,
    "editable": false,
    "run_control": {
     "frozen": true
    }
   },
   "outputs": [],
   "source": [
    "docs.save('anchors/received-docs/arstotzka-id.png')"
   ]
  },
  {
   "cell_type": "code",
   "execution_count": 172,
   "metadata": {
    "deletable": false,
    "editable": false,
    "run_control": {
     "frozen": true
    },
    "scrolled": true
   },
   "outputs": [
    {
     "data": {
      "image/png": "[encoded data removed]",
      "text/plain": [
       "<PIL.Image.Image image mode=RGB size=350x120 at 0x7F5D6074DB00>"
      ]
     },
     "execution_count": 172,
     "metadata": {},
     "output_type": "execute_result"
    }
   ],
   "source": [
    "resume()\n",
    "docs = received_docs()\n",
    "docs"
   ]
  },
  {
   "cell_type": "code",
   "execution_count": 173,
   "metadata": {
    "deletable": false,
    "editable": false,
    "run_control": {
     "frozen": true
    }
   },
   "outputs": [],
   "source": [
    "resume()\n",
    "received_docs_type()"
   ]
  },
  {
   "cell_type": "markdown",
   "metadata": {},
   "source": [
    "Oh no! Documents are not always handed in the same rotation!"
   ]
  },
  {
   "cell_type": "code",
   "execution_count": 7,
   "metadata": {},
   "outputs": [],
   "source": [
    "def moveTo(x, y):\n",
    "    global offset\n",
    "    pyautogui.moveTo(offset[0]+x, offset[1]+y)\n",
    "\n",
    "def dragTo(x, y, button='left', duration=0.4):\n",
    "    global offset\n",
    "    pyautogui.dragTo(offset[0]+x, offset[1]+y, button=button, duration=duration)\n",
    "\n",
    "def open_doc():\n",
    "    moveTo(251, 547)\n",
    "    dragTo(815, 468)"
   ]
  },
  {
   "cell_type": "code",
   "execution_count": 48,
   "metadata": {
    "deletable": false,
    "editable": false,
    "run_control": {
     "frozen": true
    }
   },
   "outputs": [
    {
     "data": {
      "image/png": "[encoded data removed]",
      "text/plain": [
       "<PIL.Image.Image image mode=RGB size=350x120 at 0xAAC4870>"
      ]
     },
     "execution_count": 48,
     "metadata": {},
     "output_type": "execute_result"
    }
   ],
   "source": [
    "resume()\n",
    "empty = received_docs()\n",
    "empty"
   ]
  },
  {
   "cell_type": "code",
   "execution_count": 54,
   "metadata": {
    "deletable": false,
    "editable": false,
    "run_control": {
     "frozen": true
    }
   },
   "outputs": [],
   "source": [
    "empty.save('anchors/nodocs.png')"
   ]
  },
  {
   "cell_type": "code",
   "execution_count": 8,
   "metadata": {},
   "outputs": [],
   "source": [
    "def screenshot(x1, y1, x2, y2):\n",
    "    global offset\n",
    "    return pyautogui.screenshot(region=(offset[0]+x1, offset[1]+y1, x2 - x1, y2 - y1))\n",
    "\n",
    "def receive_all_documents():\n",
    "    im = received_docs()\n",
    "    im2 = Image.open('anchors/nodocs.png')\n",
    "    counter = 0\n",
    "    documents_screenshots = []\n",
    "    while not (np.array(im) == np.array(im2)).all():\n",
    "        open_doc()\n",
    "        documents_screenshots.append(screenshot(430, 265, 1204, 682))\n",
    "        counter += 1\n",
    "        if counter > 5:\n",
    "            raise Exception('too many documents')\n",
    "        im = received_docs()\n",
    "    return documents_screenshots"
   ]
  },
  {
   "cell_type": "code",
   "execution_count": 13,
   "metadata": {
    "deletable": false,
    "editable": false,
    "run_control": {
     "frozen": true
    }
   },
   "outputs": [],
   "source": [
    "resume()\n",
    "receive_all_documents()"
   ]
  },
  {
   "cell_type": "code",
   "execution_count": 104,
   "metadata": {
    "deletable": false,
    "editable": false,
    "run_control": {
     "frozen": true
    }
   },
   "outputs": [
    {
     "data": {
      "image/png": "[encoded data removed]",
      "text/plain": [
       "<PIL.Image.Image image mode=RGB size=130x17 at 0xAAC4EB0>"
      ]
     },
     "execution_count": 104,
     "metadata": {},
     "output_type": "execute_result"
    }
   ],
   "source": [
    "resume()\n",
    "im = screenshot(680, 437, 810, 454)\n",
    "im"
   ]
  },
  {
   "cell_type": "code",
   "execution_count": 105,
   "metadata": {
    "deletable": false,
    "editable": false,
    "run_control": {
     "frozen": true
    }
   },
   "outputs": [],
   "source": [
    "im.save('anchors/entry_visa.png')"
   ]
  },
  {
   "cell_type": "code",
   "execution_count": 50,
   "metadata": {
    "deletable": false,
    "editable": false,
    "run_control": {
     "frozen": true
    }
   },
   "outputs": [
    {
     "data": {
      "text/plain": [
       "(0.999999463558197, (252, 851))"
      ]
     },
     "execution_count": 50,
     "metadata": {},
     "output_type": "execute_result"
    }
   ],
   "source": [
    "resume()\n",
    "im = pyautogui.screenshot()\n",
    "im2 = Image.open('anchors/entry_visa.png')\n",
    "result = cv2.matchTemplate(np.array(im2), np.array(im), cv2.TM_CCOEFF_NORMED)\n",
    "_, max_val, _, max_loc = cv2.minMaxLoc(result)\n",
    "max_val, max_loc"
   ]
  },
  {
   "cell_type": "code",
   "execution_count": 9,
   "metadata": {},
   "outputs": [],
   "source": [
    "def put_document_away():\n",
    "    moveTo(815, 468)\n",
    "    dragTo(198, 547) # needs to overshoot because it is dropped early"
   ]
  },
  {
   "cell_type": "code",
   "execution_count": 10,
   "metadata": {},
   "outputs": [],
   "source": [
    "def find_entry_visa():\n",
    "    im = pyautogui.screenshot()\n",
    "    im2 = Image.open('anchors/entry_visa.png')\n",
    "    result = cv2.matchTemplate(np.array(im2), np.array(im), cv2.TM_CCOEFF_NORMED)\n",
    "    _, max_val, _, max_loc = cv2.minMaxLoc(result)\n",
    "    if max_val > 0.999:\n",
    "        return max_loc[0] - offset[0], max_loc[1] - offset[1]\n",
    "    return None"
   ]
  },
  {
   "cell_type": "code",
   "execution_count": 18,
   "metadata": {
    "deletable": false,
    "editable": false,
    "run_control": {
     "frozen": true
    }
   },
   "outputs": [
    {
     "data": {
      "image/png": "[encoded data removed]",
      "text/plain": [
       "<PIL.Image.Image image mode=RGB size=40x40 at 0x7FF49A4E8860>"
      ]
     },
     "execution_count": 18,
     "metadata": {},
     "output_type": "execute_result"
    }
   ],
   "source": [
    "resume()\n",
    "im = screenshot(815, 468, 855, 508)\n",
    "im"
   ]
  },
  {
   "cell_type": "code",
   "execution_count": 19,
   "metadata": {
    "deletable": false,
    "editable": false,
    "run_control": {
     "frozen": true
    }
   },
   "outputs": [],
   "source": [
    "im.save('anchors/nodoc_right.png')"
   ]
  },
  {
   "cell_type": "code",
   "execution_count": 11,
   "metadata": {},
   "outputs": [],
   "source": [
    "def return_documents():\n",
    "    counter = 0\n",
    "    im = screenshot(815, 468, 855, 508)\n",
    "    im2 = Image.open('anchors/nodoc_right.png')\n",
    "    while not (np.array(im) == np.array(im2)).all():\n",
    "        if counter > 10:\n",
    "            raise Exception()\n",
    "        counter += 1\n",
    "        moveTo(815, 468)\n",
    "        dragTo(221, 391)\n",
    "        im = screenshot(815, 468, 855, 508)\n",
    "\n",
    "    im = received_docs()\n",
    "    im2 = Image.open('anchors/nodocs.png')\n",
    "    counter = 0\n",
    "    while not (np.array(im) == np.array(im2)).all():\n",
    "        if counter > 10:\n",
    "            raise Exception()\n",
    "        counter += 1\n",
    "        moveTo(251, 547)\n",
    "        dragTo(221, 391)\n",
    "        im = received_docs()"
   ]
  },
  {
   "cell_type": "code",
   "execution_count": 12,
   "metadata": {},
   "outputs": [],
   "source": [
    "def accept():\n",
    "    counter = 0\n",
    "    while True:\n",
    "        counter += 1\n",
    "        if counter == 10:\n",
    "            raise Exception('failed to find entry visa')\n",
    "\n",
    "        entry_visa = find_entry_visa()\n",
    "        if entry_visa is None:\n",
    "            put_document_away()\n",
    "            continue\n",
    "        moveTo(*entry_visa)\n",
    "        dragTo(1038, 395)\n",
    "        pyautogui.press('tab')\n",
    "        sleep(0.5)\n",
    "        click(1038, 395)\n",
    "        moveTo(1038, 455)\n",
    "        pyautogui.press('tab')\n",
    "        dragTo(221, 391)\n",
    "        return_documents()\n",
    "        break"
   ]
  },
  {
   "cell_type": "code",
   "execution_count": 13,
   "metadata": {},
   "outputs": [],
   "source": [
    "def get_person_face():\n",
    "    return screenshot(823-757, 280-16, 1170-757, 471-16)"
   ]
  },
  {
   "cell_type": "code",
   "execution_count": 22,
   "metadata": {
    "deletable": false,
    "editable": false,
    "run_control": {
     "frozen": true
    }
   },
   "outputs": [
    {
     "data": {
      "text/plain": [
       "([<PIL.Image.Image image mode=RGB size=774x417 at 0x7F2B01E74EB8>,\n",
       "  <PIL.Image.Image image mode=RGB size=774x417 at 0x7F2B01E74F60>,\n",
       "  <PIL.Image.Image image mode=RGB size=774x417 at 0x7F2B01E749B0>],\n",
       " <PIL.Image.Image image mode=RGB size=347x191 at 0x7F2B01E74EF0>,\n",
       " <PIL.Image.Image image mode=RGB size=367x152 at 0x7F2B01E74CF8>)"
      ]
     },
     "execution_count": 22,
     "metadata": {},
     "output_type": "execute_result"
    }
   ],
   "source": [
    "max_loc = find_origin_coordinates()\n",
    "offset = max_loc[0] - 600, max_loc[1] - 580\n",
    "start_game()\n",
    "look_for_wanted_criminals()\n",
    "call_next()\n",
    "docs = receive_all_documents()\n",
    "face = get_person_face()\n",
    "accept()\n",
    "sleep(8)\n",
    "result = screenshot(627, 494, 994, 646)\n",
    "docs, face, result"
   ]
  },
  {
   "cell_type": "code",
   "execution_count": 24,
   "metadata": {
    "deletable": false,
    "editable": false,
    "run_control": {
     "frozen": true
    }
   },
   "outputs": [
    {
     "data": {
      "image/png": "[encoded data removed]",
      "text/plain": [
       "<Figure size 720x1440 with 5 Axes>"
      ]
     },
     "metadata": {},
     "output_type": "display_data"
    }
   ],
   "source": [
    "plt.figure(figsize=(10, len(docs)*5+5))\n",
    "for i, im in enumerate([face] + docs + [result]):\n",
    "    plt.subplot(len(docs)+2, 1, i+1), plt.yticks([]), plt.xticks([]), plt.imshow(im);"
   ]
  },
  {
   "cell_type": "code",
   "execution_count": 14,
   "metadata": {},
   "outputs": [],
   "source": [
    "def back_to_main_menu():\n",
    "    pyautogui.press('esc')\n",
    "    click(634, 564)\n",
    "    sleep(2)\n",
    "    click(637, 517)\n",
    "    click(141, 629)"
   ]
  },
  {
   "cell_type": "code",
   "execution_count": 16,
   "metadata": {},
   "outputs": [
    {
     "data": {
      "image/png": "[encoded data removed]",
      "text/plain": [
       "<Figure size 720x1080 with 4 Axes>"
      ]
     },
     "metadata": {},
     "output_type": "display_data"
    }
   ],
   "source": [
    "max_loc = find_origin_coordinates()\n",
    "offset = max_loc[0] - 600, max_loc[1] - 580\n",
    "start_game()\n",
    "look_for_wanted_criminals()\n",
    "call_next()\n",
    "docs = receive_all_documents()\n",
    "face = get_person_face()\n",
    "accept()\n",
    "sleep(8)\n",
    "result = screenshot(627, 494, 994, 646)\n",
    "plt.figure(figsize=(10, len(docs)*5+5))\n",
    "for i, im in enumerate([face] + docs + [result]):\n",
    "    plt.subplot(len(docs)+2, 1, i+1), plt.yticks([]), plt.xticks([]), plt.imshow(im);\n",
    "back_to_main_menu()"
   ]
  }
 ],
 "metadata": {
  "kernelspec": {
   "display_name": "Python 3",
   "language": "python",
   "name": "python3"
  },
  "language_info": {
   "codemirror_mode": {
    "name": "ipython",
    "version": 3
   },
   "file_extension": ".py",
   "mimetype": "text/x-python",
   "name": "python",
   "nbconvert_exporter": "python",
   "pygments_lexer": "ipython3",
   "version": "3.5.2"
  }
 },
 "nbformat": 4,
 "nbformat_minor": 2
}
